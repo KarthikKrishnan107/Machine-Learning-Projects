{
  "nbformat": 4,
  "nbformat_minor": 0,
  "metadata": {
    "colab": {
      "provenance": []
    },
    "kernelspec": {
      "name": "python3",
      "display_name": "Python 3"
    },
    "language_info": {
      "name": "python"
    }
  },
  "cells": [
    {
      "cell_type": "code",
      "execution_count": null,
      "metadata": {
        "id": "PmLdUyai0IWf"
      },
      "outputs": [],
      "source": [
        "import numpy as np\n",
        "import pandas as pd"
      ]
    },
    {
      "cell_type": "code",
      "source": [
        "df=pd.read_csv(\"/content/car economy price.csv\")\n",
        "df"
      ],
      "metadata": {
        "id": "pK6TOW7m0Vu5"
      },
      "execution_count": null,
      "outputs": []
    },
    {
      "cell_type": "code",
      "source": [
        "df.head()"
      ],
      "metadata": {
        "id": "QVYmXv7y0tH5"
      },
      "execution_count": null,
      "outputs": []
    },
    {
      "cell_type": "code",
      "source": [
        "df.tail()"
      ],
      "metadata": {
        "id": "5U0ZTSk80vw5"
      },
      "execution_count": null,
      "outputs": []
    },
    {
      "cell_type": "code",
      "source": [
        "df.shape"
      ],
      "metadata": {
        "id": "BfF6NChT0yvo"
      },
      "execution_count": null,
      "outputs": []
    },
    {
      "cell_type": "code",
      "source": [
        "df.info()"
      ],
      "metadata": {
        "id": "GEdZ4ak301cg"
      },
      "execution_count": null,
      "outputs": []
    },
    {
      "cell_type": "code",
      "source": [
        "import seaborn as sns"
      ],
      "metadata": {
        "id": "d4IsR5eF1A1v"
      },
      "execution_count": null,
      "outputs": []
    },
    {
      "cell_type": "code",
      "source": [
        "df['Fuel_Type'].unique()"
      ],
      "metadata": {
        "id": "Y1ECnja81D9_"
      },
      "execution_count": null,
      "outputs": []
    },
    {
      "cell_type": "code",
      "source": [
        "sns.countplot(x='Fuel_Type',data=df)"
      ],
      "metadata": {
        "id": "opm9Mxwa1UQ3"
      },
      "execution_count": null,
      "outputs": []
    },
    {
      "cell_type": "code",
      "source": [
        "df['Owner_Type'].unique()"
      ],
      "metadata": {
        "id": "ijhBqg2D1i5X"
      },
      "execution_count": null,
      "outputs": []
    },
    {
      "cell_type": "code",
      "source": [
        "sns.countplot(x='Owner_Type',data=df)"
      ],
      "metadata": {
        "id": "8Aj4E7cT1tpX"
      },
      "execution_count": null,
      "outputs": []
    },
    {
      "cell_type": "code",
      "source": [
        "dummy=pd.get_dummies(df[['Location','Fuel_Type','Transmission','Owner_Type']],drop_first=True)\n",
        "dummy"
      ],
      "metadata": {
        "id": "49iF5I4h2wkE"
      },
      "execution_count": null,
      "outputs": []
    },
    {
      "cell_type": "code",
      "source": [
        "df1=pd.concat([df,dummy],axis=1)\n",
        "df1"
      ],
      "metadata": {
        "id": "gtZ6dWq-48Kf"
      },
      "execution_count": null,
      "outputs": []
    },
    {
      "cell_type": "code",
      "source": [
        "df1=df1.drop(['Unnamed: 0','Location','Fuel_Type','New_Price','Name','Transmission','Owner_Type'],axis=1)\n",
        "df1"
      ],
      "metadata": {
        "id": "svDgV--F5BVC"
      },
      "execution_count": null,
      "outputs": []
    },
    {
      "cell_type": "code",
      "source": [
        "df1['Mileage']=df1['Mileage'].str.replace('km/kg','')\n",
        "df1['Mileage']=df1['Mileage'].str.replace('kmpl','')"
      ],
      "metadata": {
        "id": "q55Sw8V96pX9"
      },
      "execution_count": null,
      "outputs": []
    },
    {
      "cell_type": "code",
      "source": [
        "df1['Engine']=df1['Engine'].str.replace('CC','')"
      ],
      "metadata": {
        "id": "GL_ocqd25XoB"
      },
      "execution_count": null,
      "outputs": []
    },
    {
      "cell_type": "code",
      "source": [
        "df1['Power']=df1['Power'].str.replace('bhp','')"
      ],
      "metadata": {
        "id": "w3JA4OPx7PuS"
      },
      "execution_count": null,
      "outputs": []
    },
    {
      "cell_type": "code",
      "source": [
        "df1"
      ],
      "metadata": {
        "id": "iQVz1UZo7Ve9"
      },
      "execution_count": null,
      "outputs": []
    },
    {
      "cell_type": "code",
      "source": [
        "df1['Mileage']=df1['Mileage'].str.replace('null','0')"
      ],
      "metadata": {
        "id": "OtKFclu97YdN"
      },
      "execution_count": null,
      "outputs": []
    },
    {
      "cell_type": "markdown",
      "source": [],
      "metadata": {
        "id": "M3iGnj-8B9Wt"
      }
    },
    {
      "cell_type": "code",
      "source": [
        "df1['Engine']=df1['Engine'].str.replace('null','0')"
      ],
      "metadata": {
        "id": "4450pB-17ucU"
      },
      "execution_count": null,
      "outputs": []
    },
    {
      "cell_type": "code",
      "source": [
        "df1['Power']=df1['Power'].str.replace('null','0')"
      ],
      "metadata": {
        "id": "onpV_F5n72ej"
      },
      "execution_count": null,
      "outputs": []
    },
    {
      "cell_type": "code",
      "source": [
        "df1.dtypes"
      ],
      "metadata": {
        "id": "gQ_jgoXq77Zb"
      },
      "execution_count": null,
      "outputs": []
    },
    {
      "cell_type": "code",
      "source": [
        "df1['Mileage']=df1['Mileage'].astype(float)\n",
        "df1['Engine']=df1['Engine'].astype(float)\n",
        "df1['Power']=df1['Power'].astype(float)"
      ],
      "metadata": {
        "id": "84gIJGcx8AzD"
      },
      "execution_count": null,
      "outputs": []
    },
    {
      "cell_type": "code",
      "source": [
        "df1.loc[df1.Mileage==0,'Mileage']=np.nan\n",
        "df1.loc[df1.Engine==0,'Engine']=np.nan\n",
        "df1.loc[df1.Power==0,'Power']=np.nan"
      ],
      "metadata": {
        "id": "54_UIuPq8WOL"
      },
      "execution_count": null,
      "outputs": []
    },
    {
      "cell_type": "code",
      "source": [
        "df1.isna().sum()"
      ],
      "metadata": {
        "id": "VA3qmDzm80Sp"
      },
      "execution_count": null,
      "outputs": []
    },
    {
      "cell_type": "code",
      "source": [
        "df1['Mileage']=df1['Mileage'].fillna(df1['Mileage'].mean())\n",
        "df1['Engine']=df1['Engine'].fillna(df1['Engine'].mean())\n",
        "df1['Power']=df1['Power'].fillna(df1['Power'].mean())\n",
        "df1['Seats']=df1['Seats'].fillna(df1['Seats'].mode()[0])"
      ],
      "metadata": {
        "id": "yXPFYlSZ853B"
      },
      "execution_count": null,
      "outputs": []
    },
    {
      "cell_type": "code",
      "source": [
        "x=df1.drop(['Price','Fuel_Type_Electric'],axis=1)\n",
        "y=df1['Price']"
      ],
      "metadata": {
        "id": "e6s-IqeO9YYA"
      },
      "execution_count": null,
      "outputs": []
    },
    {
      "cell_type": "code",
      "source": [
        "x"
      ],
      "metadata": {
        "id": "6d0dURQ89fL4"
      },
      "execution_count": null,
      "outputs": []
    },
    {
      "cell_type": "code",
      "source": [
        "y=df1['Price']"
      ],
      "metadata": {
        "id": "96WbV3h49gmI"
      },
      "execution_count": null,
      "outputs": []
    },
    {
      "cell_type": "code",
      "source": [
        "y"
      ],
      "metadata": {
        "id": "jFcV6GcS9lwX"
      },
      "execution_count": null,
      "outputs": []
    },
    {
      "cell_type": "code",
      "source": [
        "gp=pd.read_csv(\"/content/test-data.csv\")\n",
        "gp"
      ],
      "metadata": {
        "id": "GKfHbN269nr_"
      },
      "execution_count": null,
      "outputs": []
    },
    {
      "cell_type": "code",
      "source": [
        "gp.head()"
      ],
      "metadata": {
        "id": "0dJYYRx--rSy"
      },
      "execution_count": null,
      "outputs": []
    },
    {
      "cell_type": "code",
      "source": [
        "gp.tail()"
      ],
      "metadata": {
        "id": "6VGpWZe7-tUF"
      },
      "execution_count": null,
      "outputs": []
    },
    {
      "cell_type": "code",
      "source": [
        "gp.info()"
      ],
      "metadata": {
        "id": "NfSKZV0u-vB9"
      },
      "execution_count": null,
      "outputs": []
    },
    {
      "cell_type": "code",
      "source": [
        "gp.shape"
      ],
      "metadata": {
        "id": "H2GtWcFc-xDF"
      },
      "execution_count": null,
      "outputs": []
    },
    {
      "cell_type": "code",
      "source": [
        "import seaborn as sns"
      ],
      "metadata": {
        "id": "KbXb17Fv_AbU"
      },
      "execution_count": null,
      "outputs": []
    },
    {
      "cell_type": "code",
      "source": [
        "gp['Fuel_Type'].unique()"
      ],
      "metadata": {
        "id": "NmaTi8KQ_f7z"
      },
      "execution_count": null,
      "outputs": []
    },
    {
      "cell_type": "code",
      "source": [
        "sns.countplot(x='Fuel_Type',data=gp)"
      ],
      "metadata": {
        "id": "w0HeHn9e_iKb"
      },
      "execution_count": null,
      "outputs": []
    },
    {
      "cell_type": "code",
      "source": [
        "gp['Owner_Type'].unique()"
      ],
      "metadata": {
        "id": "vtw5Mogv_r-z"
      },
      "execution_count": null,
      "outputs": []
    },
    {
      "cell_type": "code",
      "source": [
        "sns.countplot(x='Owner_Type',data=gp)"
      ],
      "metadata": {
        "id": "ccfh1KrO_07S"
      },
      "execution_count": null,
      "outputs": []
    },
    {
      "cell_type": "code",
      "source": [
        "dummy1=pd.get_dummies(gp[['Location','Fuel_Type','Transmission','Owner_Type']],drop_first=True)\n",
        "dummy1"
      ],
      "metadata": {
        "id": "f1irpx2SAGS6"
      },
      "execution_count": null,
      "outputs": []
    },
    {
      "cell_type": "code",
      "source": [
        "df2=pd.concat([gp,dummy1],axis=1)\n",
        "df2"
      ],
      "metadata": {
        "id": "rgDqOMvcAc85"
      },
      "execution_count": null,
      "outputs": []
    },
    {
      "cell_type": "code",
      "source": [
        "df2=df2.drop(['Unnamed: 0','Location','Fuel_Type','New_Price','Name','Transmission','Owner_Type'],axis=1)\n",
        "df2"
      ],
      "metadata": {
        "id": "pFn-d5MmAxMg"
      },
      "execution_count": null,
      "outputs": []
    },
    {
      "cell_type": "code",
      "source": [
        "df2['Mileage']=df2['Mileage'].str.replace('km/kg','')\n",
        "df2['Mileage']=df2['Mileage'].str.replace('kmpl','')"
      ],
      "metadata": {
        "id": "FGbiIrQ5A9IQ"
      },
      "execution_count": null,
      "outputs": []
    },
    {
      "cell_type": "code",
      "source": [
        "df2['Power']=df2['Power'].str.replace('bhp','')"
      ],
      "metadata": {
        "id": "bI_cfIt5BIb4"
      },
      "execution_count": null,
      "outputs": []
    },
    {
      "cell_type": "code",
      "source": [
        "df2['Engine']=df2['Engine'].str.replace('CC','')"
      ],
      "metadata": {
        "id": "hN-X0bZyBeKs"
      },
      "execution_count": null,
      "outputs": []
    },
    {
      "cell_type": "code",
      "source": [
        "df2['Mileage']=df2['Mileage'].str.replace('null','0')"
      ],
      "metadata": {
        "id": "kKqPx2QIBmxW"
      },
      "execution_count": null,
      "outputs": []
    },
    {
      "cell_type": "code",
      "source": [
        "df2['Engine']=df2['Engine'].str.replace('null','0')"
      ],
      "metadata": {
        "id": "V4wIuEeWCCiu"
      },
      "execution_count": null,
      "outputs": []
    },
    {
      "cell_type": "code",
      "source": [
        "df2['Power']=df2['Power'].str.replace('null','0')"
      ],
      "metadata": {
        "id": "mh7SIQQtCJgF"
      },
      "execution_count": null,
      "outputs": []
    },
    {
      "cell_type": "code",
      "source": [
        "df2['Mileage']=df2['Mileage'].astype(float)\n",
        "df2['Engine']=df2['Engine'].astype(float)\n",
        "df2['Power']=df2['Power'].astype(float)"
      ],
      "metadata": {
        "id": "4wSR1YouCV7E"
      },
      "execution_count": null,
      "outputs": []
    },
    {
      "cell_type": "code",
      "source": [
        "df2.loc[df2.Mileage==0,'Mileage']=np.nan\n",
        "df2.loc[df2.Engine==0,'Engine']=np.nan\n",
        "df2.loc[df2.Power==0,'Power']=np.nan"
      ],
      "metadata": {
        "id": "q1FPQqbuClK9"
      },
      "execution_count": null,
      "outputs": []
    },
    {
      "cell_type": "code",
      "source": [
        "df2.isna().sum()"
      ],
      "metadata": {
        "id": "ZGNVV2myDBkz"
      },
      "execution_count": null,
      "outputs": []
    },
    {
      "cell_type": "code",
      "source": [
        "df2['Mileage']=df2['Mileage'].fillna(df2['Mileage'].mean())\n",
        "df2['Engine']=df2['Engine'].fillna(df2['Engine'].mean())\n",
        "df2['Power']=df2['Power'].fillna(df2['Power'].mean())\n",
        "df2['Seats']=df2['Seats'].fillna(df2['Seats'].mode()[0])"
      ],
      "metadata": {
        "id": "DTratgO4DRID"
      },
      "execution_count": null,
      "outputs": []
    },
    {
      "cell_type": "code",
      "source": [
        "df2.isna().sum()"
      ],
      "metadata": {
        "id": "cQY_atDCD0XQ"
      },
      "execution_count": null,
      "outputs": []
    },
    {
      "cell_type": "code",
      "source": [
        "from sklearn.linear_model import LinearRegression"
      ],
      "metadata": {
        "id": "5UFCJgJFD6ya"
      },
      "execution_count": null,
      "outputs": []
    },
    {
      "cell_type": "code",
      "source": [
        "model=LinearRegression()"
      ],
      "metadata": {
        "id": "HygBoptSEM3x"
      },
      "execution_count": null,
      "outputs": []
    },
    {
      "cell_type": "code",
      "source": [
        "model.fit(x,y)"
      ],
      "metadata": {
        "id": "uzklBVVCETHY"
      },
      "execution_count": null,
      "outputs": []
    },
    {
      "cell_type": "code",
      "source": [
        "pred=model.predict(df2)"
      ],
      "metadata": {
        "id": "vtsqRi7IEW5w"
      },
      "execution_count": null,
      "outputs": []
    },
    {
      "cell_type": "code",
      "source": [
        "pred"
      ],
      "metadata": {
        "id": "O4oULDu8EeAQ"
      },
      "execution_count": null,
      "outputs": []
    },
    {
      "cell_type": "code",
      "source": [
        "print(\"predicted values\",pred[0:5])\n",
        "print(\"actual values\",y[0:5].values)"
      ],
      "metadata": {
        "id": "NL6F2pCNE2J_"
      },
      "execution_count": null,
      "outputs": []
    },
    {
      "cell_type": "code",
      "source": [],
      "metadata": {
        "id": "5lORNMa6Fmp-"
      },
      "execution_count": null,
      "outputs": []
    }
  ]
}